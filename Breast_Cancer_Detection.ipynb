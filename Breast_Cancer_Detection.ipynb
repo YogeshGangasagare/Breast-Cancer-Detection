{
  "nbformat": 4,
  "nbformat_minor": 0,
  "metadata": {
    "colab": {
      "name": "Breast Cancer Detection.ipynb",
      "provenance": []
    },
    "kernelspec": {
      "name": "python3",
      "display_name": "Python 3"
    },
    "language_info": {
      "name": "python"
    }
  },
  "cells": [
    {
      "cell_type": "code",
      "metadata": {
        "id": "3v9-XK8BL14a"
      },
      "source": [
        "import pandas as pd\n",
        "import numpy as np\n",
        "\n",
        "from sklearn.datasets import load_breast_cancer\n",
        "from sklearn.preprocessing import StandardScaler\n",
        "\n",
        "from keras.models import Sequential\n",
        "from keras.layers import Dense"
      ],
      "execution_count": 31,
      "outputs": []
    },
    {
      "cell_type": "code",
      "metadata": {
        "id": "zMZkqx1IME4m"
      },
      "source": [
        "data = load_breast_cancer()\n"
      ],
      "execution_count": 32,
      "outputs": []
    },
    {
      "cell_type": "code",
      "metadata": {
        "colab": {
          "base_uri": "https://localhost:8080/"
        },
        "id": "zx0ojEa9ME87",
        "outputId": "91cb724b-5d72-4a62-fec9-45fd0337176a"
      },
      "source": [
        "data.keys()"
      ],
      "execution_count": 33,
      "outputs": [
        {
          "output_type": "execute_result",
          "data": {
            "text/plain": [
              "dict_keys(['data', 'target', 'target_names', 'DESCR', 'feature_names', 'filename'])"
            ]
          },
          "metadata": {},
          "execution_count": 33
        }
      ]
    },
    {
      "cell_type": "code",
      "metadata": {
        "colab": {
          "base_uri": "https://localhost:8080/"
        },
        "id": "Cm6tDYHpMFDz",
        "outputId": "8e03f4a6-8109-41ef-e669-789bd338faac"
      },
      "source": [
        "print(data['DESCR'])\n",
        "data['data'].shape\n",
        "data['feature_names']\n",
        "data['data'][0]"
      ],
      "execution_count": 34,
      "outputs": [
        {
          "output_type": "stream",
          "name": "stdout",
          "text": [
            ".. _breast_cancer_dataset:\n",
            "\n",
            "Breast cancer wisconsin (diagnostic) dataset\n",
            "--------------------------------------------\n",
            "\n",
            "**Data Set Characteristics:**\n",
            "\n",
            "    :Number of Instances: 569\n",
            "\n",
            "    :Number of Attributes: 30 numeric, predictive attributes and the class\n",
            "\n",
            "    :Attribute Information:\n",
            "        - radius (mean of distances from center to points on the perimeter)\n",
            "        - texture (standard deviation of gray-scale values)\n",
            "        - perimeter\n",
            "        - area\n",
            "        - smoothness (local variation in radius lengths)\n",
            "        - compactness (perimeter^2 / area - 1.0)\n",
            "        - concavity (severity of concave portions of the contour)\n",
            "        - concave points (number of concave portions of the contour)\n",
            "        - symmetry \n",
            "        - fractal dimension (\"coastline approximation\" - 1)\n",
            "\n",
            "        The mean, standard error, and \"worst\" or largest (mean of the three\n",
            "        largest values) of these features were computed for each image,\n",
            "        resulting in 30 features.  For instance, field 3 is Mean Radius, field\n",
            "        13 is Radius SE, field 23 is Worst Radius.\n",
            "\n",
            "        - class:\n",
            "                - WDBC-Malignant\n",
            "                - WDBC-Benign\n",
            "\n",
            "    :Summary Statistics:\n",
            "\n",
            "    ===================================== ====== ======\n",
            "                                           Min    Max\n",
            "    ===================================== ====== ======\n",
            "    radius (mean):                        6.981  28.11\n",
            "    texture (mean):                       9.71   39.28\n",
            "    perimeter (mean):                     43.79  188.5\n",
            "    area (mean):                          143.5  2501.0\n",
            "    smoothness (mean):                    0.053  0.163\n",
            "    compactness (mean):                   0.019  0.345\n",
            "    concavity (mean):                     0.0    0.427\n",
            "    concave points (mean):                0.0    0.201\n",
            "    symmetry (mean):                      0.106  0.304\n",
            "    fractal dimension (mean):             0.05   0.097\n",
            "    radius (standard error):              0.112  2.873\n",
            "    texture (standard error):             0.36   4.885\n",
            "    perimeter (standard error):           0.757  21.98\n",
            "    area (standard error):                6.802  542.2\n",
            "    smoothness (standard error):          0.002  0.031\n",
            "    compactness (standard error):         0.002  0.135\n",
            "    concavity (standard error):           0.0    0.396\n",
            "    concave points (standard error):      0.0    0.053\n",
            "    symmetry (standard error):            0.008  0.079\n",
            "    fractal dimension (standard error):   0.001  0.03\n",
            "    radius (worst):                       7.93   36.04\n",
            "    texture (worst):                      12.02  49.54\n",
            "    perimeter (worst):                    50.41  251.2\n",
            "    area (worst):                         185.2  4254.0\n",
            "    smoothness (worst):                   0.071  0.223\n",
            "    compactness (worst):                  0.027  1.058\n",
            "    concavity (worst):                    0.0    1.252\n",
            "    concave points (worst):               0.0    0.291\n",
            "    symmetry (worst):                     0.156  0.664\n",
            "    fractal dimension (worst):            0.055  0.208\n",
            "    ===================================== ====== ======\n",
            "\n",
            "    :Missing Attribute Values: None\n",
            "\n",
            "    :Class Distribution: 212 - Malignant, 357 - Benign\n",
            "\n",
            "    :Creator:  Dr. William H. Wolberg, W. Nick Street, Olvi L. Mangasarian\n",
            "\n",
            "    :Donor: Nick Street\n",
            "\n",
            "    :Date: November, 1995\n",
            "\n",
            "This is a copy of UCI ML Breast Cancer Wisconsin (Diagnostic) datasets.\n",
            "https://goo.gl/U2Uwz2\n",
            "\n",
            "Features are computed from a digitized image of a fine needle\n",
            "aspirate (FNA) of a breast mass.  They describe\n",
            "characteristics of the cell nuclei present in the image.\n",
            "\n",
            "Separating plane described above was obtained using\n",
            "Multisurface Method-Tree (MSM-T) [K. P. Bennett, \"Decision Tree\n",
            "Construction Via Linear Programming.\" Proceedings of the 4th\n",
            "Midwest Artificial Intelligence and Cognitive Science Society,\n",
            "pp. 97-101, 1992], a classification method which uses linear\n",
            "programming to construct a decision tree.  Relevant features\n",
            "were selected using an exhaustive search in the space of 1-4\n",
            "features and 1-3 separating planes.\n",
            "\n",
            "The actual linear program used to obtain the separating plane\n",
            "in the 3-dimensional space is that described in:\n",
            "[K. P. Bennett and O. L. Mangasarian: \"Robust Linear\n",
            "Programming Discrimination of Two Linearly Inseparable Sets\",\n",
            "Optimization Methods and Software 1, 1992, 23-34].\n",
            "\n",
            "This database is also available through the UW CS ftp server:\n",
            "\n",
            "ftp ftp.cs.wisc.edu\n",
            "cd math-prog/cpo-dataset/machine-learn/WDBC/\n",
            "\n",
            ".. topic:: References\n",
            "\n",
            "   - W.N. Street, W.H. Wolberg and O.L. Mangasarian. Nuclear feature extraction \n",
            "     for breast tumor diagnosis. IS&T/SPIE 1993 International Symposium on \n",
            "     Electronic Imaging: Science and Technology, volume 1905, pages 861-870,\n",
            "     San Jose, CA, 1993.\n",
            "   - O.L. Mangasarian, W.N. Street and W.H. Wolberg. Breast cancer diagnosis and \n",
            "     prognosis via linear programming. Operations Research, 43(4), pages 570-577, \n",
            "     July-August 1995.\n",
            "   - W.H. Wolberg, W.N. Street, and O.L. Mangasarian. Machine learning techniques\n",
            "     to diagnose breast cancer from fine-needle aspirates. Cancer Letters 77 (1994) \n",
            "     163-171.\n"
          ]
        },
        {
          "output_type": "execute_result",
          "data": {
            "text/plain": [
              "array([1.799e+01, 1.038e+01, 1.228e+02, 1.001e+03, 1.184e-01, 2.776e-01,\n",
              "       3.001e-01, 1.471e-01, 2.419e-01, 7.871e-02, 1.095e+00, 9.053e-01,\n",
              "       8.589e+00, 1.534e+02, 6.399e-03, 4.904e-02, 5.373e-02, 1.587e-02,\n",
              "       3.003e-02, 6.193e-03, 2.538e+01, 1.733e+01, 1.846e+02, 2.019e+03,\n",
              "       1.622e-01, 6.656e-01, 7.119e-01, 2.654e-01, 4.601e-01, 1.189e-01])"
            ]
          },
          "metadata": {},
          "execution_count": 34
        }
      ]
    },
    {
      "cell_type": "code",
      "metadata": {
        "colab": {
          "base_uri": "https://localhost:8080/"
        },
        "id": "G0DjyE-UMFI8",
        "outputId": "54b96654-e3de-4da7-8ceb-90a991518d21"
      },
      "source": [
        "j = 0\n",
        "for i in data['feature_names']:\n",
        "  print(i,\":\",data['data'][0][j])\n",
        "  j+=1"
      ],
      "execution_count": 35,
      "outputs": [
        {
          "output_type": "stream",
          "name": "stdout",
          "text": [
            "mean radius : 17.99\n",
            "mean texture : 10.38\n",
            "mean perimeter : 122.8\n",
            "mean area : 1001.0\n",
            "mean smoothness : 0.1184\n",
            "mean compactness : 0.2776\n",
            "mean concavity : 0.3001\n",
            "mean concave points : 0.1471\n",
            "mean symmetry : 0.2419\n",
            "mean fractal dimension : 0.07871\n",
            "radius error : 1.095\n",
            "texture error : 0.9053\n",
            "perimeter error : 8.589\n",
            "area error : 153.4\n",
            "smoothness error : 0.006399\n",
            "compactness error : 0.04904\n",
            "concavity error : 0.05373\n",
            "concave points error : 0.01587\n",
            "symmetry error : 0.03003\n",
            "fractal dimension error : 0.006193\n",
            "worst radius : 25.38\n",
            "worst texture : 17.33\n",
            "worst perimeter : 184.6\n",
            "worst area : 2019.0\n",
            "worst smoothness : 0.1622\n",
            "worst compactness : 0.6656\n",
            "worst concavity : 0.7119\n",
            "worst concave points : 0.2654\n",
            "worst symmetry : 0.4601\n",
            "worst fractal dimension : 0.1189\n"
          ]
        }
      ]
    },
    {
      "cell_type": "code",
      "metadata": {
        "id": "aG-m5An2Mj5D"
      },
      "source": [
        "feature = data['data']"
      ],
      "execution_count": 36,
      "outputs": []
    },
    {
      "cell_type": "code",
      "metadata": {
        "id": "Zp9GZ8dmMj8w"
      },
      "source": [
        "label = data['target']"
      ],
      "execution_count": 37,
      "outputs": []
    },
    {
      "cell_type": "code",
      "metadata": {
        "colab": {
          "base_uri": "https://localhost:8080/"
        },
        "id": "gPSHbwpuMkDj",
        "outputId": "ae194b54-63f0-4106-bc8e-1ce63c54a47a"
      },
      "source": [
        "data['target_names']"
      ],
      "execution_count": 38,
      "outputs": [
        {
          "output_type": "execute_result",
          "data": {
            "text/plain": [
              "array(['malignant', 'benign'], dtype='<U9')"
            ]
          },
          "metadata": {},
          "execution_count": 38
        }
      ]
    },
    {
      "cell_type": "code",
      "metadata": {
        "colab": {
          "base_uri": "https://localhost:8080/"
        },
        "id": "JMU97sZWMkHM",
        "outputId": "29429403-51bf-41c7-927d-cbd549c8b84d"
      },
      "source": [
        "feature.shape"
      ],
      "execution_count": 39,
      "outputs": [
        {
          "output_type": "execute_result",
          "data": {
            "text/plain": [
              "(569, 30)"
            ]
          },
          "metadata": {},
          "execution_count": 39
        }
      ]
    },
    {
      "cell_type": "code",
      "metadata": {
        "colab": {
          "base_uri": "https://localhost:8080/"
        },
        "id": "ObZzENd_MkKd",
        "outputId": "55aab0b7-713e-44db-83e6-6006f15fefd9"
      },
      "source": [
        "label.shape"
      ],
      "execution_count": 40,
      "outputs": [
        {
          "output_type": "execute_result",
          "data": {
            "text/plain": [
              "(569,)"
            ]
          },
          "metadata": {},
          "execution_count": 40
        }
      ]
    },
    {
      "cell_type": "code",
      "metadata": {
        "id": "hr4nU7_YMkOO"
      },
      "source": [
        "scale = StandardScaler()\n",
        "\n",
        "feature = scale.fit_transform(feature)"
      ],
      "execution_count": 41,
      "outputs": []
    },
    {
      "cell_type": "code",
      "metadata": {
        "colab": {
          "base_uri": "https://localhost:8080/"
        },
        "id": "6HSDDlWoNCXL",
        "outputId": "6513030e-c896-4e45-ac0e-e580c725affd"
      },
      "source": [
        "j = 0\n",
        "for i in data['feature_names']:\n",
        "  print(i,\":\",feature[0][j])\n",
        "  j+=1"
      ],
      "execution_count": 42,
      "outputs": [
        {
          "output_type": "stream",
          "name": "stdout",
          "text": [
            "mean radius : 1.0970639814699807\n",
            "mean texture : -2.0733350146975935\n",
            "mean perimeter : 1.2699336881399383\n",
            "mean area : 0.9843749048031144\n",
            "mean smoothness : 1.568466329243428\n",
            "mean compactness : 3.2835146709868264\n",
            "mean concavity : 2.652873983743168\n",
            "mean concave points : 2.532475216403245\n",
            "mean symmetry : 2.2175150059646405\n",
            "mean fractal dimension : 2.255746885296269\n",
            "radius error : 2.4897339267376193\n",
            "texture error : -0.5652650590684639\n",
            "perimeter error : 2.833030865855184\n",
            "area error : 2.4875775569611043\n",
            "smoothness error : -0.21400164666895383\n",
            "compactness error : 1.3168615683959484\n",
            "concavity error : 0.72402615808036\n",
            "concave points error : 0.6608199414286064\n",
            "symmetry error : 1.1487566671861758\n",
            "fractal dimension error : 0.9070830809973359\n",
            "worst radius : 1.8866896251792757\n",
            "worst texture : -1.3592934737640827\n",
            "worst perimeter : 2.3036006236225606\n",
            "worst area : 2.0012374893299207\n",
            "worst smoothness : 1.3076862710715387\n",
            "worst compactness : 2.616665023512603\n",
            "worst concavity : 2.1095263465722556\n",
            "worst concave points : 2.296076127561788\n",
            "worst symmetry : 2.750622244124955\n",
            "worst fractal dimension : 1.9370146123781782\n"
          ]
        }
      ]
    },
    {
      "cell_type": "code",
      "metadata": {
        "colab": {
          "base_uri": "https://localhost:8080/"
        },
        "id": "1-emyZEMNCae",
        "outputId": "637b262b-b4ae-495a-99ec-afce705111c4"
      },
      "source": [
        "print(feature[568])\n",
        "print(data['target_names'][label[568]],label[568])"
      ],
      "execution_count": 43,
      "outputs": [
        {
          "output_type": "stream",
          "name": "stdout",
          "text": [
            "[-1.80840125  1.22179204 -1.81438851 -1.34778924 -3.11208479 -1.15075248\n",
            " -1.11487284 -1.26181958 -0.8200699  -0.56103238 -0.07027874  0.3830925\n",
            " -0.15744905 -0.46615196  0.04934236 -1.16351619 -1.05750068 -1.91344745\n",
            "  0.75282996 -0.382754   -1.41089258  0.76418957 -1.43273495 -1.07581292\n",
            " -1.85901852 -1.2075525  -1.30583065 -1.74506282 -0.04813821 -0.75120669]\n",
            "benign 1\n"
          ]
        }
      ]
    },
    {
      "cell_type": "code",
      "metadata": {
        "id": "YCw3ofr2NChX"
      },
      "source": [
        "df_frt = pd.DataFrame(feature , columns = data['feature_names'])\n",
        "df_lbl = pd.DataFrame(label , columns = ['label'])\n",
        "df = pd.concat([df_frt, df_lbl], axis=1)\n",
        "df = df.sample(frac = 1)\n",
        "\n",
        "feature = df.values[ : , : 30]\n",
        "label = df.values[ : ,30: ]"
      ],
      "execution_count": 44,
      "outputs": []
    },
    {
      "cell_type": "code",
      "metadata": {
        "colab": {
          "base_uri": "https://localhost:8080/",
          "height": 473
        },
        "id": "Fb4YOBzbNCow",
        "outputId": "76cc65bf-7e01-4655-9f80-7feff0866486"
      },
      "source": [
        "df"
      ],
      "execution_count": 45,
      "outputs": [
        {
          "output_type": "execute_result",
          "data": {
            "text/html": [
              "<div>\n",
              "<style scoped>\n",
              "    .dataframe tbody tr th:only-of-type {\n",
              "        vertical-align: middle;\n",
              "    }\n",
              "\n",
              "    .dataframe tbody tr th {\n",
              "        vertical-align: top;\n",
              "    }\n",
              "\n",
              "    .dataframe thead th {\n",
              "        text-align: right;\n",
              "    }\n",
              "</style>\n",
              "<table border=\"1\" class=\"dataframe\">\n",
              "  <thead>\n",
              "    <tr style=\"text-align: right;\">\n",
              "      <th></th>\n",
              "      <th>mean radius</th>\n",
              "      <th>mean texture</th>\n",
              "      <th>mean perimeter</th>\n",
              "      <th>mean area</th>\n",
              "      <th>mean smoothness</th>\n",
              "      <th>mean compactness</th>\n",
              "      <th>mean concavity</th>\n",
              "      <th>mean concave points</th>\n",
              "      <th>mean symmetry</th>\n",
              "      <th>mean fractal dimension</th>\n",
              "      <th>radius error</th>\n",
              "      <th>texture error</th>\n",
              "      <th>perimeter error</th>\n",
              "      <th>area error</th>\n",
              "      <th>smoothness error</th>\n",
              "      <th>compactness error</th>\n",
              "      <th>concavity error</th>\n",
              "      <th>concave points error</th>\n",
              "      <th>symmetry error</th>\n",
              "      <th>fractal dimension error</th>\n",
              "      <th>worst radius</th>\n",
              "      <th>worst texture</th>\n",
              "      <th>worst perimeter</th>\n",
              "      <th>worst area</th>\n",
              "      <th>worst smoothness</th>\n",
              "      <th>worst compactness</th>\n",
              "      <th>worst concavity</th>\n",
              "      <th>worst concave points</th>\n",
              "      <th>worst symmetry</th>\n",
              "      <th>worst fractal dimension</th>\n",
              "      <th>label</th>\n",
              "    </tr>\n",
              "  </thead>\n",
              "  <tbody>\n",
              "    <tr>\n",
              "      <th>411</th>\n",
              "      <td>-0.876835</td>\n",
              "      <td>-0.572377</td>\n",
              "      <td>-0.867014</td>\n",
              "      <td>-0.801153</td>\n",
              "      <td>0.806996</td>\n",
              "      <td>-0.498443</td>\n",
              "      <td>-0.732448</td>\n",
              "      <td>-0.622129</td>\n",
              "      <td>-0.356400</td>\n",
              "      <td>0.085395</td>\n",
              "      <td>-0.752419</td>\n",
              "      <td>0.308704</td>\n",
              "      <td>-0.754456</td>\n",
              "      <td>-0.589582</td>\n",
              "      <td>-0.627685</td>\n",
              "      <td>-0.901115</td>\n",
              "      <td>-0.707363</td>\n",
              "      <td>-0.699633</td>\n",
              "      <td>-0.407102</td>\n",
              "      <td>-0.604031</td>\n",
              "      <td>-0.799171</td>\n",
              "      <td>0.124213</td>\n",
              "      <td>-0.814083</td>\n",
              "      <td>-0.719308</td>\n",
              "      <td>0.198638</td>\n",
              "      <td>-0.674722</td>\n",
              "      <td>-0.793935</td>\n",
              "      <td>-0.613574</td>\n",
              "      <td>0.157320</td>\n",
              "      <td>-0.284606</td>\n",
              "      <td>1</td>\n",
              "    </tr>\n",
              "    <tr>\n",
              "      <th>518</th>\n",
              "      <td>-0.354249</td>\n",
              "      <td>-0.248914</td>\n",
              "      <td>-0.309710</td>\n",
              "      <td>-0.460145</td>\n",
              "      <td>1.810429</td>\n",
              "      <td>1.170425</td>\n",
              "      <td>-0.509095</td>\n",
              "      <td>0.106035</td>\n",
              "      <td>-0.374655</td>\n",
              "      <td>1.379668</td>\n",
              "      <td>0.135085</td>\n",
              "      <td>-0.086823</td>\n",
              "      <td>0.153430</td>\n",
              "      <td>-0.131286</td>\n",
              "      <td>-0.589350</td>\n",
              "      <td>-0.122294</td>\n",
              "      <td>-0.591645</td>\n",
              "      <td>0.104441</td>\n",
              "      <td>-0.288445</td>\n",
              "      <td>-0.187576</td>\n",
              "      <td>-0.252473</td>\n",
              "      <td>-0.212873</td>\n",
              "      <td>-0.236834</td>\n",
              "      <td>-0.361925</td>\n",
              "      <td>0.580010</td>\n",
              "      <td>0.266129</td>\n",
              "      <td>-0.708059</td>\n",
              "      <td>-0.076228</td>\n",
              "      <td>-0.515677</td>\n",
              "      <td>0.276203</td>\n",
              "      <td>1</td>\n",
              "    </tr>\n",
              "    <tr>\n",
              "      <th>356</th>\n",
              "      <td>-0.305966</td>\n",
              "      <td>-0.162813</td>\n",
              "      <td>-0.283349</td>\n",
              "      <td>-0.406391</td>\n",
              "      <td>0.842579</td>\n",
              "      <td>0.493857</td>\n",
              "      <td>0.090781</td>\n",
              "      <td>0.183417</td>\n",
              "      <td>0.815553</td>\n",
              "      <td>0.313629</td>\n",
              "      <td>-0.341330</td>\n",
              "      <td>0.531869</td>\n",
              "      <td>-0.136658</td>\n",
              "      <td>-0.412908</td>\n",
              "      <td>0.255351</td>\n",
              "      <td>0.773615</td>\n",
              "      <td>0.637486</td>\n",
              "      <td>1.129606</td>\n",
              "      <td>0.975614</td>\n",
              "      <td>0.726279</td>\n",
              "      <td>-0.430564</td>\n",
              "      <td>-0.134708</td>\n",
              "      <td>-0.388443</td>\n",
              "      <td>-0.508710</td>\n",
              "      <td>0.084665</td>\n",
              "      <td>0.073378</td>\n",
              "      <td>-0.071428</td>\n",
              "      <td>0.170443</td>\n",
              "      <td>0.343365</td>\n",
              "      <td>-0.042993</td>\n",
              "      <td>1</td>\n",
              "    </tr>\n",
              "    <tr>\n",
              "      <th>63</th>\n",
              "      <td>-1.407089</td>\n",
              "      <td>-1.263516</td>\n",
              "      <td>-1.349763</td>\n",
              "      <td>-1.120545</td>\n",
              "      <td>-1.362838</td>\n",
              "      <td>-0.318972</td>\n",
              "      <td>-0.363081</td>\n",
              "      <td>-0.699511</td>\n",
              "      <td>1.932741</td>\n",
              "      <td>0.968562</td>\n",
              "      <td>0.016703</td>\n",
              "      <td>1.901698</td>\n",
              "      <td>-0.127747</td>\n",
              "      <td>-0.370004</td>\n",
              "      <td>0.565697</td>\n",
              "      <td>0.776969</td>\n",
              "      <td>0.372230</td>\n",
              "      <td>0.617023</td>\n",
              "      <td>2.588380</td>\n",
              "      <td>0.766752</td>\n",
              "      <td>-1.296169</td>\n",
              "      <td>-1.049890</td>\n",
              "      <td>-1.241212</td>\n",
              "      <td>-1.002860</td>\n",
              "      <td>-1.490797</td>\n",
              "      <td>-0.550038</td>\n",
              "      <td>-0.635617</td>\n",
              "      <td>-0.970486</td>\n",
              "      <td>0.616770</td>\n",
              "      <td>0.052877</td>\n",
              "      <td>1</td>\n",
              "    </tr>\n",
              "    <tr>\n",
              "      <th>263</th>\n",
              "      <td>0.421110</td>\n",
              "      <td>0.021025</td>\n",
              "      <td>0.330797</td>\n",
              "      <td>0.294964</td>\n",
              "      <td>-1.278151</td>\n",
              "      <td>-0.913101</td>\n",
              "      <td>-0.586434</td>\n",
              "      <td>-0.527465</td>\n",
              "      <td>-0.966108</td>\n",
              "      <td>-1.186196</td>\n",
              "      <td>-0.632955</td>\n",
              "      <td>-0.395624</td>\n",
              "      <td>-0.659410</td>\n",
              "      <td>-0.399487</td>\n",
              "      <td>-1.405050</td>\n",
              "      <td>-0.915087</td>\n",
              "      <td>-0.622812</td>\n",
              "      <td>-1.074175</td>\n",
              "      <td>-1.260706</td>\n",
              "      <td>-0.926679</td>\n",
              "      <td>0.339783</td>\n",
              "      <td>0.975886</td>\n",
              "      <td>0.257314</td>\n",
              "      <td>0.189884</td>\n",
              "      <td>-1.050685</td>\n",
              "      <td>-0.467976</td>\n",
              "      <td>-0.221590</td>\n",
              "      <td>-0.440448</td>\n",
              "      <td>-0.352281</td>\n",
              "      <td>-0.867580</td>\n",
              "      <td>0</td>\n",
              "    </tr>\n",
              "    <tr>\n",
              "      <th>...</th>\n",
              "      <td>...</td>\n",
              "      <td>...</td>\n",
              "      <td>...</td>\n",
              "      <td>...</td>\n",
              "      <td>...</td>\n",
              "      <td>...</td>\n",
              "      <td>...</td>\n",
              "      <td>...</td>\n",
              "      <td>...</td>\n",
              "      <td>...</td>\n",
              "      <td>...</td>\n",
              "      <td>...</td>\n",
              "      <td>...</td>\n",
              "      <td>...</td>\n",
              "      <td>...</td>\n",
              "      <td>...</td>\n",
              "      <td>...</td>\n",
              "      <td>...</td>\n",
              "      <td>...</td>\n",
              "      <td>...</td>\n",
              "      <td>...</td>\n",
              "      <td>...</td>\n",
              "      <td>...</td>\n",
              "      <td>...</td>\n",
              "      <td>...</td>\n",
              "      <td>...</td>\n",
              "      <td>...</td>\n",
              "      <td>...</td>\n",
              "      <td>...</td>\n",
              "      <td>...</td>\n",
              "      <td>...</td>\n",
              "    </tr>\n",
              "    <tr>\n",
              "      <th>25</th>\n",
              "      <td>0.855652</td>\n",
              "      <td>-0.672441</td>\n",
              "      <td>0.989840</td>\n",
              "      <td>0.733241</td>\n",
              "      <td>1.582699</td>\n",
              "      <td>2.335941</td>\n",
              "      <td>1.683630</td>\n",
              "      <td>2.351917</td>\n",
              "      <td>4.484751</td>\n",
              "      <td>1.606484</td>\n",
              "      <td>2.312883</td>\n",
              "      <td>-0.436991</td>\n",
              "      <td>2.183056</td>\n",
              "      <td>1.563506</td>\n",
              "      <td>0.329354</td>\n",
              "      <td>0.699282</td>\n",
              "      <td>0.179919</td>\n",
              "      <td>1.974718</td>\n",
              "      <td>0.307261</td>\n",
              "      <td>1.380276</td>\n",
              "      <td>1.238521</td>\n",
              "      <td>-0.696519</td>\n",
              "      <td>1.344497</td>\n",
              "      <td>1.020322</td>\n",
              "      <td>0.970150</td>\n",
              "      <td>0.894635</td>\n",
              "      <td>0.542655</td>\n",
              "      <td>2.137720</td>\n",
              "      <td>1.885110</td>\n",
              "      <td>1.216609</td>\n",
              "      <td>0</td>\n",
              "    </tr>\n",
              "    <tr>\n",
              "      <th>466</th>\n",
              "      <td>-0.280405</td>\n",
              "      <td>0.337507</td>\n",
              "      <td>-0.246689</td>\n",
              "      <td>-0.335573</td>\n",
              "      <td>-0.683920</td>\n",
              "      <td>0.086400</td>\n",
              "      <td>0.247342</td>\n",
              "      <td>-0.356451</td>\n",
              "      <td>-0.911343</td>\n",
              "      <td>-0.368238</td>\n",
              "      <td>-0.324728</td>\n",
              "      <td>-0.777362</td>\n",
              "      <td>-0.274276</td>\n",
              "      <td>-0.284638</td>\n",
              "      <td>0.084677</td>\n",
              "      <td>0.352767</td>\n",
              "      <td>0.472696</td>\n",
              "      <td>0.120662</td>\n",
              "      <td>-0.597195</td>\n",
              "      <td>-0.213676</td>\n",
              "      <td>-0.304244</td>\n",
              "      <td>-0.035373</td>\n",
              "      <td>-0.189474</td>\n",
              "      <td>-0.336611</td>\n",
              "      <td>0.119734</td>\n",
              "      <td>0.640179</td>\n",
              "      <td>0.854974</td>\n",
              "      <td>0.053198</td>\n",
              "      <td>-0.546415</td>\n",
              "      <td>-0.122237</td>\n",
              "      <td>1</td>\n",
              "    </tr>\n",
              "    <tr>\n",
              "      <th>354</th>\n",
              "      <td>-0.848433</td>\n",
              "      <td>-1.214647</td>\n",
              "      <td>-0.853833</td>\n",
              "      <td>-0.768730</td>\n",
              "      <td>-1.680948</td>\n",
              "      <td>-0.828198</td>\n",
              "      <td>-0.549271</td>\n",
              "      <td>-0.882390</td>\n",
              "      <td>-0.444023</td>\n",
              "      <td>-0.278929</td>\n",
              "      <td>0.061457</td>\n",
              "      <td>-0.739624</td>\n",
              "      <td>0.229665</td>\n",
              "      <td>-0.252955</td>\n",
              "      <td>-0.500013</td>\n",
              "      <td>0.469017</td>\n",
              "      <td>0.436223</td>\n",
              "      <td>0.472657</td>\n",
              "      <td>1.268624</td>\n",
              "      <td>0.391905</td>\n",
              "      <td>-0.859225</td>\n",
              "      <td>-1.605188</td>\n",
              "      <td>-0.823317</td>\n",
              "      <td>-0.750775</td>\n",
              "      <td>-1.916882</td>\n",
              "      <td>-0.818489</td>\n",
              "      <td>-0.729648</td>\n",
              "      <td>-1.147876</td>\n",
              "      <td>-0.525383</td>\n",
              "      <td>-0.762844</td>\n",
              "      <td>1</td>\n",
              "    </tr>\n",
              "    <tr>\n",
              "      <th>316</th>\n",
              "      <td>-0.553058</td>\n",
              "      <td>-1.212320</td>\n",
              "      <td>-0.606280</td>\n",
              "      <td>-0.550303</td>\n",
              "      <td>-1.353587</td>\n",
              "      <td>-1.368694</td>\n",
              "      <td>-0.973881</td>\n",
              "      <td>-1.131534</td>\n",
              "      <td>-0.506089</td>\n",
              "      <td>-0.894169</td>\n",
              "      <td>-0.699725</td>\n",
              "      <td>-1.119910</td>\n",
              "      <td>-0.706933</td>\n",
              "      <td>-0.539418</td>\n",
              "      <td>-0.566016</td>\n",
              "      <td>-1.101646</td>\n",
              "      <td>-0.685147</td>\n",
              "      <td>-1.094126</td>\n",
              "      <td>-0.093509</td>\n",
              "      <td>-1.076013</td>\n",
              "      <td>-0.708054</td>\n",
              "      <td>-1.499339</td>\n",
              "      <td>-0.764341</td>\n",
              "      <td>-0.646003</td>\n",
              "      <td>-1.414523</td>\n",
              "      <td>-1.278291</td>\n",
              "      <td>-1.108365</td>\n",
              "      <td>-1.463066</td>\n",
              "      <td>-0.983215</td>\n",
              "      <td>-1.306473</td>\n",
              "      <td>1</td>\n",
              "    </tr>\n",
              "    <tr>\n",
              "      <th>255</th>\n",
              "      <td>-0.047513</td>\n",
              "      <td>-0.521181</td>\n",
              "      <td>-0.022203</td>\n",
              "      <td>-0.149284</td>\n",
              "      <td>0.942210</td>\n",
              "      <td>0.446478</td>\n",
              "      <td>0.114133</td>\n",
              "      <td>0.091333</td>\n",
              "      <td>0.351883</td>\n",
              "      <td>-0.212302</td>\n",
              "      <td>0.071563</td>\n",
              "      <td>-0.738535</td>\n",
              "      <td>-0.150024</td>\n",
              "      <td>-0.101144</td>\n",
              "      <td>-0.230002</td>\n",
              "      <td>0.073319</td>\n",
              "      <td>-0.023333</td>\n",
              "      <td>0.263406</td>\n",
              "      <td>0.009408</td>\n",
              "      <td>-0.416040</td>\n",
              "      <td>0.025018</td>\n",
              "      <td>-0.587414</td>\n",
              "      <td>0.024984</td>\n",
              "      <td>-0.095952</td>\n",
              "      <td>0.825491</td>\n",
              "      <td>0.457607</td>\n",
              "      <td>0.233695</td>\n",
              "      <td>0.347072</td>\n",
              "      <td>0.270565</td>\n",
              "      <td>-0.242489</td>\n",
              "      <td>0</td>\n",
              "    </tr>\n",
              "  </tbody>\n",
              "</table>\n",
              "<p>569 rows × 31 columns</p>\n",
              "</div>"
            ],
            "text/plain": [
              "     mean radius  mean texture  ...  worst fractal dimension  label\n",
              "411    -0.876835     -0.572377  ...                -0.284606      1\n",
              "518    -0.354249     -0.248914  ...                 0.276203      1\n",
              "356    -0.305966     -0.162813  ...                -0.042993      1\n",
              "63     -1.407089     -1.263516  ...                 0.052877      1\n",
              "263     0.421110      0.021025  ...                -0.867580      0\n",
              "..           ...           ...  ...                      ...    ...\n",
              "25      0.855652     -0.672441  ...                 1.216609      0\n",
              "466    -0.280405      0.337507  ...                -0.122237      1\n",
              "354    -0.848433     -1.214647  ...                -0.762844      1\n",
              "316    -0.553058     -1.212320  ...                -1.306473      1\n",
              "255    -0.047513     -0.521181  ...                -0.242489      0\n",
              "\n",
              "[569 rows x 31 columns]"
            ]
          },
          "metadata": {},
          "execution_count": 45
        }
      ]
    },
    {
      "cell_type": "code",
      "metadata": {
        "id": "b2jmTWDZNCsK"
      },
      "source": [
        "#500 Training\n",
        "X_train = feature[:500]\n",
        "y_train = label[:500]\n",
        "\n",
        "#35 Validation\n",
        "X_val = feature[500:535]\n",
        "y_val = label[500:535]\n",
        "\n",
        "#34 Testing\n",
        "X_test = feature[535:]\n",
        "y_test = label[535:]"
      ],
      "execution_count": 46,
      "outputs": []
    },
    {
      "cell_type": "code",
      "metadata": {
        "id": "Udg4qfehNWrE"
      },
      "source": [
        "model = Sequential()\n",
        "\n",
        "model.add(Dense(32, activation = 'relu', input_dim = 30))\n",
        "model.add(Dense(64, activation = 'relu'))\n",
        "model.add(Dense(128, activation = 'relu'))\n",
        "model.add(Dense(64, activation = 'relu'))\n",
        "model.add(Dense(32, activation = 'relu'))\n",
        "model.add(Dense(1, activation = 'sigmoid'))\n",
        "\n",
        "model.compile( loss = 'binary_crossentropy' , optimizer = 'adam' , metrics = ['accuracy'])"
      ],
      "execution_count": 47,
      "outputs": []
    },
    {
      "cell_type": "code",
      "metadata": {
        "colab": {
          "base_uri": "https://localhost:8080/"
        },
        "id": "CwWSg8UNNWv0",
        "outputId": "25fa6a2f-d216-48d9-ea56-b46d2c548bec"
      },
      "source": [
        "model.fit( X_train , y_train, epochs = 10, batch_size = 5, validation_data = (X_val, y_val))"
      ],
      "execution_count": 48,
      "outputs": [
        {
          "output_type": "stream",
          "name": "stdout",
          "text": [
            "Epoch 1/10\n",
            "100/100 [==============================] - 1s 3ms/step - loss: 0.2314 - accuracy: 0.9180 - val_loss: 0.0478 - val_accuracy: 1.0000\n",
            "Epoch 2/10\n",
            "100/100 [==============================] - 0s 2ms/step - loss: 0.0764 - accuracy: 0.9740 - val_loss: 0.0487 - val_accuracy: 0.9714\n",
            "Epoch 3/10\n",
            "100/100 [==============================] - 0s 2ms/step - loss: 0.0510 - accuracy: 0.9840 - val_loss: 0.0137 - val_accuracy: 1.0000\n",
            "Epoch 4/10\n",
            "100/100 [==============================] - 0s 2ms/step - loss: 0.0444 - accuracy: 0.9860 - val_loss: 0.0491 - val_accuracy: 0.9714\n",
            "Epoch 5/10\n",
            "100/100 [==============================] - 0s 2ms/step - loss: 0.0348 - accuracy: 0.9920 - val_loss: 0.0819 - val_accuracy: 0.9714\n",
            "Epoch 6/10\n",
            "100/100 [==============================] - 0s 2ms/step - loss: 0.0178 - accuracy: 0.9940 - val_loss: 0.0186 - val_accuracy: 1.0000\n",
            "Epoch 7/10\n",
            "100/100 [==============================] - 0s 2ms/step - loss: 0.0213 - accuracy: 0.9920 - val_loss: 0.0056 - val_accuracy: 1.0000\n",
            "Epoch 8/10\n",
            "100/100 [==============================] - 0s 2ms/step - loss: 0.0222 - accuracy: 0.9940 - val_loss: 0.0646 - val_accuracy: 0.9714\n",
            "Epoch 9/10\n",
            "100/100 [==============================] - 0s 2ms/step - loss: 0.0220 - accuracy: 0.9940 - val_loss: 0.0223 - val_accuracy: 0.9714\n",
            "Epoch 10/10\n",
            "100/100 [==============================] - 0s 2ms/step - loss: 0.0191 - accuracy: 0.9960 - val_loss: 0.0158 - val_accuracy: 1.0000\n"
          ]
        },
        {
          "output_type": "execute_result",
          "data": {
            "text/plain": [
              "<keras.callbacks.History at 0x7f38580b5890>"
            ]
          },
          "metadata": {},
          "execution_count": 48
        }
      ]
    },
    {
      "cell_type": "code",
      "metadata": {
        "colab": {
          "base_uri": "https://localhost:8080/"
        },
        "id": "x2MOrGQzNWzs",
        "outputId": "460e9239-35bc-4186-8027-1473e0260bfb"
      },
      "source": [
        "model.evaluate(X_test , y_test)"
      ],
      "execution_count": 49,
      "outputs": [
        {
          "output_type": "stream",
          "name": "stdout",
          "text": [
            "2/2 [==============================] - 0s 5ms/step - loss: 0.1350 - accuracy: 0.9706\n"
          ]
        },
        {
          "output_type": "execute_result",
          "data": {
            "text/plain": [
              "[0.13498449325561523, 0.970588207244873]"
            ]
          },
          "metadata": {},
          "execution_count": 49
        }
      ]
    },
    {
      "cell_type": "code",
      "metadata": {
        "colab": {
          "base_uri": "https://localhost:8080/"
        },
        "id": "_p4AI-mGNW3m",
        "outputId": "accc19ad-5244-40a8-8b3e-165f063996e1"
      },
      "source": [
        "model.evaluate(X_val , y_val)"
      ],
      "execution_count": 50,
      "outputs": [
        {
          "output_type": "stream",
          "name": "stdout",
          "text": [
            "2/2 [==============================] - 0s 5ms/step - loss: 0.0158 - accuracy: 1.0000\n"
          ]
        },
        {
          "output_type": "execute_result",
          "data": {
            "text/plain": [
              "[0.01581755466759205, 1.0]"
            ]
          },
          "metadata": {},
          "execution_count": 50
        }
      ]
    },
    {
      "cell_type": "code",
      "metadata": {
        "colab": {
          "base_uri": "https://localhost:8080/"
        },
        "id": "Oem1uUzMNlQS",
        "outputId": "3647ee5e-4e73-47fc-a696-9aaba0c07103"
      },
      "source": [
        "for i in range(30):\n",
        "  sample = X_test[i]\n",
        "  sample = np.reshape(sample, (1,30))\n",
        "\n",
        "  if (model.predict(sample)[0][0] > 0.5):\n",
        "    print(\"-Benign\")\n",
        "  else:\n",
        "    print(\"-Malignant\")\n",
        "\n",
        "  if (y_test[i] == 1):\n",
        "    print(\"*Banign\")\n",
        "  else:\n",
        "    print(\"*Melignant\")\n",
        "  print(\"-----------\")"
      ],
      "execution_count": 51,
      "outputs": [
        {
          "output_type": "stream",
          "name": "stdout",
          "text": [
            "-Benign\n",
            "*Banign\n",
            "-----------\n",
            "-Benign\n",
            "*Banign\n",
            "-----------\n",
            "-Malignant\n",
            "*Melignant\n",
            "-----------\n",
            "-Benign\n",
            "*Banign\n",
            "-----------\n",
            "-Benign\n",
            "*Banign\n",
            "-----------\n",
            "-Malignant\n",
            "*Melignant\n",
            "-----------\n",
            "-Malignant\n",
            "*Melignant\n",
            "-----------\n",
            "-Benign\n",
            "*Banign\n",
            "-----------\n",
            "-Malignant\n",
            "*Melignant\n",
            "-----------\n",
            "-Benign\n",
            "*Banign\n",
            "-----------\n",
            "-Benign\n",
            "*Banign\n",
            "-----------\n",
            "-Malignant\n",
            "*Melignant\n",
            "-----------\n",
            "-Benign\n",
            "*Banign\n",
            "-----------\n",
            "-Benign\n",
            "*Banign\n",
            "-----------\n",
            "-Benign\n",
            "*Banign\n",
            "-----------\n",
            "-Benign\n",
            "*Banign\n",
            "-----------\n",
            "-Benign\n",
            "*Banign\n",
            "-----------\n",
            "-Benign\n",
            "*Banign\n",
            "-----------\n",
            "-Benign\n",
            "*Banign\n",
            "-----------\n",
            "-Benign\n",
            "*Banign\n",
            "-----------\n",
            "-Benign\n",
            "*Banign\n",
            "-----------\n",
            "-Benign\n",
            "*Banign\n",
            "-----------\n",
            "-Benign\n",
            "*Banign\n",
            "-----------\n",
            "-Benign\n",
            "*Banign\n",
            "-----------\n",
            "-Benign\n",
            "*Banign\n",
            "-----------\n",
            "-Malignant\n",
            "*Melignant\n",
            "-----------\n",
            "-Benign\n",
            "*Banign\n",
            "-----------\n",
            "-Malignant\n",
            "*Melignant\n",
            "-----------\n",
            "-Benign\n",
            "*Banign\n",
            "-----------\n",
            "-Malignant\n",
            "*Melignant\n",
            "-----------\n"
          ]
        }
      ]
    },
    {
      "cell_type": "code",
      "metadata": {
        "colab": {
          "base_uri": "https://localhost:8080/"
        },
        "id": "M8C_435pNlU8",
        "outputId": "c5bad82f-c364-4fa0-e5b1-3e637dc5534c"
      },
      "source": [
        "t = 0\n",
        "for i in y_val:\n",
        "  if (i == 1):\n",
        "    t += 1\n",
        "\n",
        "print(t)"
      ],
      "execution_count": 52,
      "outputs": [
        {
          "output_type": "stream",
          "name": "stdout",
          "text": [
            "28\n"
          ]
        }
      ]
    },
    {
      "cell_type": "code",
      "metadata": {
        "colab": {
          "base_uri": "https://localhost:8080/"
        },
        "id": "NUAjdl8QNlZm",
        "outputId": "e8f556af-60e4-4518-b146-e981c52eb92f"
      },
      "source": [
        "t = 0\n",
        "for i in y_test:\n",
        "  if (i == 1):\n",
        "    t += 1\n",
        "\n",
        "print(t)"
      ],
      "execution_count": 53,
      "outputs": [
        {
          "output_type": "stream",
          "name": "stdout",
          "text": [
            "25\n"
          ]
        }
      ]
    },
    {
      "cell_type": "code",
      "metadata": {
        "colab": {
          "base_uri": "https://localhost:8080/"
        },
        "id": "ooGvJQKyNlfS",
        "outputId": "b2b85250-2c61-4d1c-b7d1-fdadd0d5631d"
      },
      "source": [
        "X_test[0] * -.1"
      ],
      "execution_count": 54,
      "outputs": [
        {
          "output_type": "execute_result",
          "data": {
            "text/plain": [
              "array([-0.02251404,  0.10145195, -0.01845719, -0.00910423,  0.10945445,\n",
              "        0.0357254 ,  0.0419453 ,  0.04309954,  0.04549756,  0.08658172,\n",
              "        0.05795383,  0.14214539,  0.05148612,  0.03746249,  0.12567106,\n",
              "        0.04347166,  0.02915735,  0.05510485,  0.10972496,  0.05355675,\n",
              "       -0.01886129,  0.12143625, -0.01411488, -0.00457354,  0.11339729,\n",
              "       -0.0157985 , -0.0205869 , -0.00014279,  0.03441921,  0.00673755])"
            ]
          },
          "metadata": {},
          "execution_count": 54
        }
      ]
    },
    {
      "cell_type": "code",
      "metadata": {
        "id": "EzeA4jWdNlp_"
      },
      "source": [
        ""
      ],
      "execution_count": 54,
      "outputs": []
    }
  ]
}